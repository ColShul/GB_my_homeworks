{
 "cells": [
  {
   "cell_type": "markdown",
   "id": "a3abba47",
   "metadata": {},
   "source": [
    "# Практическое задание к уроку 1.\n",
    "## Основы клиент-серверного взаимодействия. Парсинг API"
   ]
  },
  {
   "cell_type": "markdown",
   "id": "ecd36b0d",
   "metadata": {},
   "source": [
    "## Задание 1.\n",
    "### Посмотреть документацию к API GitHub, разобраться как вывести список репозиториев для конкретного пользователя, сохранить JSON-вывод в файле *.json."
   ]
  },
  {
   "cell_type": "code",
   "execution_count": 1,
   "id": "8e4d35e6",
   "metadata": {},
   "outputs": [],
   "source": [
    "# Подключим необходимые библиотеки и модули для выполнения заданий:\n",
    "import requests\n",
    "import json\n",
    "from pprint import pprint\n",
    "from prettytable import PrettyTable\n",
    "\n"
   ]
  },
  {
   "cell_type": "markdown",
   "id": "a2fddb2f",
   "metadata": {},
   "source": [
    "Как понял из документации, чтобы получить список репозиториев для конкретного пользователя, необходимо сделать запрос вида:\n",
    "\n",
    "$$\"https://api.github.com/users/{username}/repos\"$$,\n",
    "    где **username** - имя конкретного пользователя"
   ]
  },
  {
   "cell_type": "code",
   "execution_count": 78,
   "id": "560335ab",
   "metadata": {},
   "outputs": [
    {
     "name": "stdout",
     "output_type": "stream",
     "text": [
      "\n",
      "Список репозиториев\n",
      "\n",
      "Имя репозитория  -  Описание - Когда создан\n",
      "\n",
      "GB_my_homeworks - None - 2022-11-09T08:08:59Z\n",
      "projectt - None - 2022-10-29T19:34:04Z\n",
      "projectt-gui - None - 2022-11-07T10:19:45Z\n",
      "repo-github - None - 2022-07-07T16:10:26Z\n",
      "repo-gui - None - 2022-07-11T08:28:40Z\n",
      "\n",
      "Список репозиториев более презентабельно\n",
      "+-----------------+----------+----------------------+\n",
      "| Имя репозитория | Описание |     Когда создан     |\n",
      "+-----------------+----------+----------------------+\n",
      "| GB_my_homeworks |   None   | 2022-11-09T08:08:59Z |\n",
      "|     projectt    |   None   | 2022-10-29T19:34:04Z |\n",
      "|   projectt-gui  |   None   | 2022-11-07T10:19:45Z |\n",
      "|   repo-github   |   None   | 2022-07-07T16:10:26Z |\n",
      "|     repo-gui    |   None   | 2022-07-11T08:28:40Z |\n",
      "+-----------------+----------+----------------------+\n"
     ]
    }
   ],
   "source": [
    "\n",
    "# Ввожу имя своего репозитория\n",
    "username = \"ColShul\"\n",
    "# Адрес\n",
    "url = f\"https://api.github.com/users/{username}/repos\"\n",
    "# Делаем запрос с сохранением в формате \"json\"\n",
    "user_data = requests.get(url).json()\n",
    "\n",
    "...\n",
    "# записываем в файл\n",
    "#with open('data.json', 'w', encoding='UTF-8') as file:\n",
    "    #json.dump(user_data, file)\n",
    "    \n",
    "#with open('data.json', 'r', encoding='UTF-8') as f:\n",
    "    # pprint(json.load(f))\n",
    "...       \n",
    "print('\\nСписок репозиториев\\n')\n",
    "print('Имя репозитория  -  Описание - Когда создан\\n')\n",
    "for repo in user_data:\n",
    "    print(f\"{repo['name']} - {repo['description']} - {repo['created_at']}\")\n",
    "\n",
    "# Сделаем вывод более презентабельным, используя PrettyTable\n",
    "\n",
    "table = PrettyTable()\n",
    "table.field_names = [\"Имя репозитория\", \"Описание\", \"Когда создан\"]\n",
    "print('\\nСписок репозиториев более презентабельно')\n",
    "for repository in user_data:\n",
    "    table.add_row([repository[\"name\"], repository[\"description\"], repository[\"created_at\"]])\n",
    "\n",
    "print(table)\n",
    "\n"
   ]
  },
  {
   "cell_type": "markdown",
   "id": "8ffcb8f6",
   "metadata": {},
   "source": [
    "## Задание 2.\n",
    "### Изучить список открытых API (https://www.programmableweb.com/category/all/apis). Найти среди них любое, требующее авторизацию (любого типа). Выполнить запросы к нему, пройдя авторизацию. Ответ сервера записать в файл.¶"
   ]
  },
  {
   "cell_type": "markdown",
   "id": "6f9e2064",
   "metadata": {},
   "source": [
    "Для работы я выбрал открытое API \"the-one-api.dev\", которое предоставляет различные данные о \"Властелине колец\", эпических книгах Дж. Р. Р. Толкиена и официальных экранизациях Питера Джексона. "
   ]
  },
  {
   "cell_type": "markdown",
   "id": "93ccdfc1",
   "metadata": {},
   "source": [
    "Прошел авторизацию и получил токен\n",
    "\n",
    "**Welcome to your user account!\n",
    "Registered email address: ********@gmail.com\n",
    "Access token: BmMYrKqsFmrdpn9rsMo1 (Include this in your API calls!)**"
   ]
  },
  {
   "cell_type": "code",
   "execution_count": 102,
   "id": "f8edfc24",
   "metadata": {},
   "outputs": [
    {
     "data": {
      "text/plain": [
       "<Response [200]>"
      ]
     },
     "execution_count": 102,
     "metadata": {},
     "output_type": "execute_result"
    }
   ],
   "source": [
    "# Ввожу имя своего токена\n",
    "token = \"BmMYrKqsFmrdpn9rsMo1\"\n",
    "# Адрес\n",
    "# url = f\"https://the-one-api.dev/v2/{token}\"\n",
    "url = f\"https://the-one-api.dev/v2/movie\"\n",
    "headers = {\n",
    "    \"Authorization\": \"Bearer \" + token\n",
    "        }\n",
    "\n",
    "response = requests.get(url, headers=headers)\n",
    "response\n"
   ]
  },
  {
   "cell_type": "code",
   "execution_count": 43,
   "id": "a216dced",
   "metadata": {},
   "outputs": [
    {
     "data": {
      "text/plain": [
       "'https://the-one-api.dev/v2/movie'"
      ]
     },
     "execution_count": 43,
     "metadata": {},
     "output_type": "execute_result"
    }
   ],
   "source": [
    "response.url"
   ]
  },
  {
   "cell_type": "code",
   "execution_count": 79,
   "id": "596736f2",
   "metadata": {},
   "outputs": [
    {
     "name": "stdout",
     "output_type": "stream",
     "text": [
      "{'docs': [{'_id': '5cd95395de30eff6ebccde56',\n",
      "           'academyAwardNominations': 30,\n",
      "           'academyAwardWins': 17,\n",
      "           'boxOfficeRevenueInMillions': 2917,\n",
      "           'budgetInMillions': 281,\n",
      "           'name': 'The Lord of the Rings Series',\n",
      "           'rottenTomatoesScore': 94,\n",
      "           'runtimeInMinutes': 558},\n",
      "          {'_id': '5cd95395de30eff6ebccde57',\n",
      "           'academyAwardNominations': 7,\n",
      "           'academyAwardWins': 1,\n",
      "           'boxOfficeRevenueInMillions': 2932,\n",
      "           'budgetInMillions': 675,\n",
      "           'name': 'The Hobbit Series',\n",
      "           'rottenTomatoesScore': 66.33333333,\n",
      "           'runtimeInMinutes': 462},\n",
      "          {'_id': '5cd95395de30eff6ebccde58',\n",
      "           'academyAwardNominations': 3,\n",
      "           'academyAwardWins': 1,\n",
      "           'boxOfficeRevenueInMillions': 1021,\n",
      "           'budgetInMillions': 200,\n",
      "           'name': 'The Unexpected Journey',\n",
      "           'rottenTomatoesScore': 64,\n",
      "           'runtimeInMinutes': 169},\n",
      "          {'_id': '5cd95395de30eff6ebccde59',\n",
      "           'academyAwardNominations': 3,\n",
      "           'academyAwardWins': 0,\n",
      "           'boxOfficeRevenueInMillions': 958.4,\n",
      "           'budgetInMillions': 217,\n",
      "           'name': 'The Desolation of Smaug',\n",
      "           'rottenTomatoesScore': 75,\n",
      "           'runtimeInMinutes': 161},\n",
      "          {'_id': '5cd95395de30eff6ebccde5a',\n",
      "           'academyAwardNominations': 1,\n",
      "           'academyAwardWins': 0,\n",
      "           'boxOfficeRevenueInMillions': 956,\n",
      "           'budgetInMillions': 250,\n",
      "           'name': 'The Battle of the Five Armies',\n",
      "           'rottenTomatoesScore': 60,\n",
      "           'runtimeInMinutes': 144},\n",
      "          {'_id': '5cd95395de30eff6ebccde5b',\n",
      "           'academyAwardNominations': 6,\n",
      "           'academyAwardWins': 2,\n",
      "           'boxOfficeRevenueInMillions': 926,\n",
      "           'budgetInMillions': 94,\n",
      "           'name': 'The Two Towers',\n",
      "           'rottenTomatoesScore': 96,\n",
      "           'runtimeInMinutes': 179},\n",
      "          {'_id': '5cd95395de30eff6ebccde5c',\n",
      "           'academyAwardNominations': 13,\n",
      "           'academyAwardWins': 4,\n",
      "           'boxOfficeRevenueInMillions': 871.5,\n",
      "           'budgetInMillions': 93,\n",
      "           'name': 'The Fellowship of the Ring',\n",
      "           'rottenTomatoesScore': 91,\n",
      "           'runtimeInMinutes': 178},\n",
      "          {'_id': '5cd95395de30eff6ebccde5d',\n",
      "           'academyAwardNominations': 11,\n",
      "           'academyAwardWins': 11,\n",
      "           'boxOfficeRevenueInMillions': 1120,\n",
      "           'budgetInMillions': 94,\n",
      "           'name': 'The Return of the King',\n",
      "           'rottenTomatoesScore': 95,\n",
      "           'runtimeInMinutes': 201}],\n",
      " 'limit': 1000,\n",
      " 'offset': 0,\n",
      " 'page': 1,\n",
      " 'pages': 1,\n",
      " 'total': 8}\n"
     ]
    }
   ],
   "source": [
    "data = response.json()\n",
    "pprint(data)"
   ]
  },
  {
   "cell_type": "code",
   "execution_count": 82,
   "id": "9243f3a3",
   "metadata": {},
   "outputs": [
    {
     "name": "stdout",
     "output_type": "stream",
     "text": [
      "\n",
      "Список фильмов\n",
      "Название фильма  -  Продолжительность, мин - Бюджет, млн. долл.\n",
      "\n",
      "The Lord of the Rings Series - 558 - 281\n",
      "The Hobbit Series - 462 - 675\n",
      "The Unexpected Journey - 169 - 200\n",
      "The Desolation of Smaug - 161 - 217\n",
      "The Battle of the Five Armies - 144 - 250\n",
      "The Two Towers - 179 - 94\n",
      "The Fellowship of the Ring - 178 - 93\n",
      "The Return of the King - 201 - 94\n"
     ]
    }
   ],
   "source": [
    "# Отфильтруем по названиям фильмов, продолжительности и бюджету\n",
    "print('\\nСписок фильмов')\n",
    "print('Название фильма  -  Продолжительность, мин - Бюджет, млн. долл.\\n')\n",
    "\n",
    "for movie in data['docs']:\n",
    "    print(f\"{movie['name']} - {movie['runtimeInMinutes']} - {movie['budgetInMillions']}\")\n",
    "   \n",
    "  "
   ]
  },
  {
   "cell_type": "code",
   "execution_count": 80,
   "id": "0d5c99f2",
   "metadata": {},
   "outputs": [
    {
     "name": "stdout",
     "output_type": "stream",
     "text": [
      "\n",
      "Список репозиториев более презентабельно\n",
      "+-------------------------------+------------------------+--------------------+\n",
      "|        Название фильма        | Продолжительность, мин | Бюджет, млн. долл. |\n",
      "+-------------------------------+------------------------+--------------------+\n",
      "|  The Lord of the Rings Series |          558           |        281         |\n",
      "|       The Hobbit Series       |          462           |        675         |\n",
      "|     The Unexpected Journey    |          169           |        200         |\n",
      "|    The Desolation of Smaug    |          161           |        217         |\n",
      "| The Battle of the Five Armies |          144           |        250         |\n",
      "|         The Two Towers        |          179           |         94         |\n",
      "|   The Fellowship of the Ring  |          178           |         93         |\n",
      "|     The Return of the King    |          201           |         94         |\n",
      "+-------------------------------+------------------------+--------------------+\n"
     ]
    }
   ],
   "source": [
    "table = PrettyTable()\n",
    "table.field_names = [\"Название фильма\", \"Продолжительность, мин\", \"Бюджет, млн. долл.\"]\n",
    "print('\\nСписок репозиториев более презентабельно')\n",
    "for movie in data['docs']:\n",
    "    table.add_row([movie['name'], movie['runtimeInMinutes'], movie['budgetInMillions']])\n",
    "\n",
    "print(table)"
   ]
  },
  {
   "cell_type": "code",
   "execution_count": 96,
   "id": "7f518dfa",
   "metadata": {},
   "outputs": [
    {
     "data": {
      "text/plain": [
       "<Response [200]>"
      ]
     },
     "execution_count": 96,
     "metadata": {},
     "output_type": "execute_result"
    }
   ],
   "source": [
    "# Cделаем запрос на орков и гоблинов\n",
    "url1 = f\"https://the-one-api.dev/v2/character?race=Orc,Goblin\"\n",
    "response1 = requests.get(url1, headers=headers)\n",
    "response1"
   ]
  },
  {
   "cell_type": "code",
   "execution_count": 97,
   "id": "21debb50",
   "metadata": {},
   "outputs": [],
   "source": [
    "data1 = response1.json()"
   ]
  },
  {
   "cell_type": "code",
   "execution_count": 98,
   "id": "9364d569",
   "metadata": {},
   "outputs": [
    {
     "name": "stdout",
     "output_type": "stream",
     "text": [
      "{'docs': [{'_id': '5cdbdecb6dc0baeae48cfa89',\n",
      "           'birth': 'NaN',\n",
      "           'death': 'March ,3019',\n",
      "           'gender': 'Male',\n",
      "           'hair': 'NaN',\n",
      "           'height': 'NaN',\n",
      "           'name': 'Muzgash',\n",
      "           'race': 'Orc',\n",
      "           'realm': 'NaN',\n",
      "           'spouse': 'NaN'},\n",
      "          {'_id': '5cdbdecb6dc0baeae48cfa94',\n",
      "           'birth': 'NaN',\n",
      "           'death': 'February 29 ,3019',\n",
      "           'gender': 'Male',\n",
      "           'hair': 'NaN',\n",
      "           'height': 'NaN',\n",
      "           'name': 'Grishnákh',\n",
      "           'race': 'Orc',\n",
      "           'realm': 'NaN',\n",
      "           'spouse': 'NaN'},\n",
      "          {'_id': '5cdbdecb6dc0baeae48cfa96',\n",
      "           'birth': 'NaN',\n",
      "           'death': 'March 15, 3019 (film)',\n",
      "           'gender': 'Male',\n",
      "           'hair': 'white/gray, possibly light brown (film)',\n",
      "           'height': '5\\'9\" - 6\\'4\" (film)',\n",
      "           'name': 'Gothmog (Lieutenant of Morgul)',\n",
      "           'race': 'Orc',\n",
      "           'realm': 'Minas Morgul,the Witch-King',\n",
      "           'spouse': 'None'},\n",
      "          {'_id': '5cdbdecb6dc0baeae48cfab3',\n",
      "           'birth': 'NaN',\n",
      "           'death': '3019',\n",
      "           'gender': 'Male',\n",
      "           'hair': 'NaN',\n",
      "           'height': 'NaN',\n",
      "           'name': 'Ufthak',\n",
      "           'race': 'Orc',\n",
      "           'realm': 'Cirith Ungol',\n",
      "           'spouse': 'None'},\n",
      "          {'_id': '5cdbdf377ed9587226e7949a',\n",
      "           'birth': '',\n",
      "           'death': 'TA 3019',\n",
      "           'gender': 'Male',\n",
      "           'hair': '',\n",
      "           'height': '',\n",
      "           'name': 'Sharku',\n",
      "           'race': 'Orc',\n",
      "           'realm': '',\n",
      "           'spouse': '',\n",
      "           'wikiUrl': 'http://lotr.wikia.com//wiki/Sharku'},\n",
      "          {'_id': '5cdbdf807ed9587226e7949c',\n",
      "           'birth': '',\n",
      "           'death': 'TA 3019',\n",
      "           'hair': '',\n",
      "           'height': '',\n",
      "           'name': 'Gothmog',\n",
      "           'race': 'Orc',\n",
      "           'realm': '',\n",
      "           'spouse': '',\n",
      "           'wikiUrl': 'http://lotr.wikia.com//wiki/Gothmog'}],\n",
      " 'limit': 1000,\n",
      " 'offset': 0,\n",
      " 'page': 1,\n",
      " 'pages': 1,\n",
      " 'total': 6}\n"
     ]
    }
   ],
   "source": [
    "pprint(data1)"
   ]
  },
  {
   "cell_type": "code",
   "execution_count": 100,
   "id": "0c850f7a",
   "metadata": {},
   "outputs": [],
   "source": [
    "# Ответ сервера запишем в файл\n",
    "with open('orks-goblins.json', 'w', encoding='UTF-8') as f:\n",
    "    json.dump(data1, f)"
   ]
  },
  {
   "cell_type": "code",
   "execution_count": 101,
   "id": "1861379a",
   "metadata": {},
   "outputs": [
    {
     "name": "stdout",
     "output_type": "stream",
     "text": [
      "{'docs': [{'_id': '5cdbdecb6dc0baeae48cfa89',\n",
      "           'birth': 'NaN',\n",
      "           'death': 'March ,3019',\n",
      "           'gender': 'Male',\n",
      "           'hair': 'NaN',\n",
      "           'height': 'NaN',\n",
      "           'name': 'Muzgash',\n",
      "           'race': 'Orc',\n",
      "           'realm': 'NaN',\n",
      "           'spouse': 'NaN'},\n",
      "          {'_id': '5cdbdecb6dc0baeae48cfa94',\n",
      "           'birth': 'NaN',\n",
      "           'death': 'February 29 ,3019',\n",
      "           'gender': 'Male',\n",
      "           'hair': 'NaN',\n",
      "           'height': 'NaN',\n",
      "           'name': 'Grishnákh',\n",
      "           'race': 'Orc',\n",
      "           'realm': 'NaN',\n",
      "           'spouse': 'NaN'},\n",
      "          {'_id': '5cdbdecb6dc0baeae48cfa96',\n",
      "           'birth': 'NaN',\n",
      "           'death': 'March 15, 3019 (film)',\n",
      "           'gender': 'Male',\n",
      "           'hair': 'white/gray, possibly light brown (film)',\n",
      "           'height': '5\\'9\" - 6\\'4\" (film)',\n",
      "           'name': 'Gothmog (Lieutenant of Morgul)',\n",
      "           'race': 'Orc',\n",
      "           'realm': 'Minas Morgul,the Witch-King',\n",
      "           'spouse': 'None'},\n",
      "          {'_id': '5cdbdecb6dc0baeae48cfab3',\n",
      "           'birth': 'NaN',\n",
      "           'death': '3019',\n",
      "           'gender': 'Male',\n",
      "           'hair': 'NaN',\n",
      "           'height': 'NaN',\n",
      "           'name': 'Ufthak',\n",
      "           'race': 'Orc',\n",
      "           'realm': 'Cirith Ungol',\n",
      "           'spouse': 'None'},\n",
      "          {'_id': '5cdbdf377ed9587226e7949a',\n",
      "           'birth': '',\n",
      "           'death': 'TA 3019',\n",
      "           'gender': 'Male',\n",
      "           'hair': '',\n",
      "           'height': '',\n",
      "           'name': 'Sharku',\n",
      "           'race': 'Orc',\n",
      "           'realm': '',\n",
      "           'spouse': '',\n",
      "           'wikiUrl': 'http://lotr.wikia.com//wiki/Sharku'},\n",
      "          {'_id': '5cdbdf807ed9587226e7949c',\n",
      "           'birth': '',\n",
      "           'death': 'TA 3019',\n",
      "           'hair': '',\n",
      "           'height': '',\n",
      "           'name': 'Gothmog',\n",
      "           'race': 'Orc',\n",
      "           'realm': '',\n",
      "           'spouse': '',\n",
      "           'wikiUrl': 'http://lotr.wikia.com//wiki/Gothmog'}],\n",
      " 'limit': 1000,\n",
      " 'offset': 0,\n",
      " 'page': 1,\n",
      " 'pages': 1,\n",
      " 'total': 6}\n"
     ]
    }
   ],
   "source": [
    "# Прочитаем файл для проверки:\n",
    "with open('orks-goblins.json', 'r', encoding='UTF-8') as f:\n",
    "     pprint(json.load(f))"
   ]
  },
  {
   "cell_type": "code",
   "execution_count": null,
   "id": "e94aff0b",
   "metadata": {},
   "outputs": [],
   "source": []
  }
 ],
 "metadata": {
  "kernelspec": {
   "display_name": "Python 3 (ipykernel)",
   "language": "python",
   "name": "python3"
  },
  "language_info": {
   "codemirror_mode": {
    "name": "ipython",
    "version": 3
   },
   "file_extension": ".py",
   "mimetype": "text/x-python",
   "name": "python",
   "nbconvert_exporter": "python",
   "pygments_lexer": "ipython3",
   "version": "3.9.13"
  }
 },
 "nbformat": 4,
 "nbformat_minor": 5
}
